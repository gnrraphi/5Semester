{
 "cells": [
  {
   "cell_type": "code",
   "execution_count": 114,
   "metadata": {},
   "outputs": [],
   "source": [
    "import matplotlib.pyplot as plt\n",
    "import numpy as np\n",
    "import random\n",
    "import numba"
   ]
  },
  {
   "cell_type": "code",
   "execution_count": 59,
   "metadata": {},
   "outputs": [],
   "source": [
    "Students=[100 for i in range(1000)]"
   ]
  },
  {
   "cell_type": "code",
   "execution_count": 117,
   "metadata": {},
   "outputs": [
    {
     "data": {
      "image/png": "[encoded data removed]",
      "text/plain": [
       "<Figure size 432x288 with 1 Axes>"
      ]
     },
     "metadata": {
      "needs_background": "light"
     },
     "output_type": "display_data"
    }
   ],
   "source": [
    "@numba.njit()\n",
    "def money(runs,Students):\n",
    "    array=[100 for i in range(Students)]\n",
    "    for i in range(runs):\n",
    "        r1=0\n",
    "        r2=0\n",
    "        while(r1==r2):\n",
    "            r1=random.randrange(0,Students)\n",
    "            r2=random.randrange(0,Students)\n",
    "        if array[r1]>0:\n",
    "            array[r1] += -1\n",
    "            array[r2] += +1\n",
    "    return array\n",
    "\n",
    "\n",
    "def print_money(runs, Students, steps):\n",
    "    m=money(runs,Students)\n",
    "    X=[i for i in range(max(m))]\n",
    "    Y=[100**i/((101)**(i+1))*Students*steps for i in X]\n",
    "    plt.hist(m, bins=int((max(m)-min(m)+1)/steps))\n",
    "    plt.plot(X,Y)\n",
    "    plt.show()\n",
    "    \n",
    "print_money(100000000, 1000, 10)"
   ]
  },
  {
   "cell_type": "code",
   "execution_count": null,
   "metadata": {},
   "outputs": [],
   "source": []
  }
 ],
 "metadata": {
  "kernelspec": {
   "display_name": "Python 3",
   "language": "python",
   "name": "python3"
  },
  "language_info": {
   "codemirror_mode": {
    "name": "ipython",
    "version": 3
   },
   "file_extension": ".py",
   "mimetype": "text/x-python",
   "name": "python",
   "nbconvert_exporter": "python",
   "pygments_lexer": "ipython3",
   "version": "3.7.3"
  }
 },
 "nbformat": 4,
 "nbformat_minor": 2
}
